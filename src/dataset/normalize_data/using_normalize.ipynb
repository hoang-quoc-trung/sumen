{
 "cells": [
  {
   "cell_type": "code",
   "execution_count": 1,
   "metadata": {},
   "outputs": [],
   "source": [
    "import sys\n",
    "import os\n",
    "import re\n",
    "import argparse\n",
    "import subprocess\n",
    "import shutil\n",
    "import pandas as pd"
   ]
  },
  {
   "cell_type": "code",
   "execution_count": 2,
   "metadata": {},
   "outputs": [],
   "source": [
    "# Files to be processed\n",
    "input_csv = './examples/img2latex_100k_raw_test.csv'\n",
    "output_csv = './examples/img2latex_100k_normalize_test.csv'\n",
    "\n",
    "# Temporary files\n",
    "unclean_txt = './tmp_data/unclean.txt'\n",
    "clean_txt = './tmp_data/clean.txt'"
   ]
  },
  {
   "cell_type": "markdown",
   "metadata": {},
   "source": [
    "# Convert CSV to TXT"
   ]
  },
  {
   "cell_type": "code",
   "execution_count": 3,
   "metadata": {},
   "outputs": [
    {
     "data": {
      "text/html": [
       "<div>\n",
       "<style scoped>\n",
       "    .dataframe tbody tr th:only-of-type {\n",
       "        vertical-align: middle;\n",
       "    }\n",
       "\n",
       "    .dataframe tbody tr th {\n",
       "        vertical-align: top;\n",
       "    }\n",
       "\n",
       "    .dataframe thead th {\n",
       "        text-align: right;\n",
       "    }\n",
       "</style>\n",
       "<table border=\"1\" class=\"dataframe\">\n",
       "  <thead>\n",
       "    <tr style=\"text-align: right;\">\n",
       "      <th></th>\n",
       "      <th>image_filename</th>\n",
       "      <th>latex</th>\n",
       "    </tr>\n",
       "  </thead>\n",
       "  <tbody>\n",
       "    <tr>\n",
       "      <th>0</th>\n",
       "      <td>482d5e4808.png</td>\n",
       "      <td>( \\Delta z ) ^ { 2 } \\ge { \\frac { \\epsilon } ...</td>\n",
       "    </tr>\n",
       "    <tr>\n",
       "      <th>1</th>\n",
       "      <td>54f1d6dbee.png</td>\n",
       "      <td>5 [ D _ { \\mu } , [ D _ { \\nu } , G _ { \\mu \\n...</td>\n",
       "    </tr>\n",
       "    <tr>\n",
       "      <th>2</th>\n",
       "      <td>10e00a9cf4.png</td>\n",
       "      <td>T r \\, T _ { a } = \\sqrt N \\delta _ { a , N ^ ...</td>\n",
       "    </tr>\n",
       "    <tr>\n",
       "      <th>3</th>\n",
       "      <td>4cb0ae54f8.png</td>\n",
       "      <td>W _ { \\mathrm { X } } \\tilde { \\Sigma } = 0 \\,...</td>\n",
       "    </tr>\n",
       "    <tr>\n",
       "      <th>4</th>\n",
       "      <td>51ffa53ddb.png</td>\n",
       "      <td>R ( C _ { L } , D _ { L } ) \\; Q ( K _ { \\star...</td>\n",
       "    </tr>\n",
       "  </tbody>\n",
       "</table>\n",
       "</div>"
      ],
      "text/plain": [
       "   image_filename                                              latex\n",
       "0  482d5e4808.png  ( \\Delta z ) ^ { 2 } \\ge { \\frac { \\epsilon } ...\n",
       "1  54f1d6dbee.png  5 [ D _ { \\mu } , [ D _ { \\nu } , G _ { \\mu \\n...\n",
       "2  10e00a9cf4.png  T r \\, T _ { a } = \\sqrt N \\delta _ { a , N ^ ...\n",
       "3  4cb0ae54f8.png  W _ { \\mathrm { X } } \\tilde { \\Sigma } = 0 \\,...\n",
       "4  51ffa53ddb.png  R ( C _ { L } , D _ { L } ) \\; Q ( K _ { \\star..."
      ]
     },
     "execution_count": 3,
     "metadata": {},
     "output_type": "execute_result"
    }
   ],
   "source": [
    "data = pd.read_csv(input_csv)\n",
    "data.head()"
   ]
  },
  {
   "cell_type": "code",
   "execution_count": 4,
   "metadata": {},
   "outputs": [
    {
     "name": "stdout",
     "output_type": "stream",
     "text": [
      "Done!\n"
     ]
    }
   ],
   "source": [
    "unclean_file = open(unclean_txt,'w')\n",
    "for i in range(len(data)):\n",
    "    tmp_str = data['latex'][i].replace('\\\\begin{align*}','\\\\begin{align}')\n",
    "    tmp_str = tmp_str.replace('\\begin{align*}','\\\\begin{align}')\n",
    "    tmp_str = tmp_str.replace('\\\\end{align*}','\\\\end{align}')\n",
    "    tmp_str = tmp_str.replace('\\end{align*}','\\\\end{align}')\n",
    "    tmp_str = tmp_str.replace('\\\\begin{gather*}','\\\\begin{align}')\n",
    "    tmp_str = tmp_str.replace('\\begin{gather*}','\\\\begin{align}')\n",
    "    tmp_str = tmp_str.replace('\\\\end{gather*}','\\\\end{align}')\n",
    "    tmp_str = tmp_str.replace('\\end{gather*}','\\\\end{align}')\n",
    "    if tmp_str.startswith('$') and tmp_str.endswith('$'):\n",
    "        tmp_str = tmp_str[1:-1]\n",
    "        tmp_str = '\\\\begin{align} ' + tmp_str + ' \\\\end{align}'\n",
    "    unclean_file.write(tmp_str)\n",
    "    unclean_file.write('\\n')\n",
    "unclean_file.close()\n",
    "print('Done!')"
   ]
  },
  {
   "cell_type": "markdown",
   "metadata": {},
   "source": [
    "# Normalize data"
   ]
  },
  {
   "cell_type": "code",
   "execution_count": 5,
   "metadata": {},
   "outputs": [
    {
     "name": "stdout",
     "output_type": "stream",
     "text": [
      "Done!\n"
     ]
    }
   ],
   "source": [
    "assert os.path.exists(unclean_txt), unclean_txt\n",
    "shutil.copy(unclean_txt, clean_txt)\n",
    "operators = '\\s?'.join('|'.join(['arccos', 'arcsin', 'arctan', 'arg', 'cos', 'cosh', 'cot', 'coth', 'csc', 'deg', 'det', 'dim', 'exp', 'gcd', 'hom', 'inf',\n",
    "                                    'injlim', 'ker', 'lg', 'lim', 'liminf', 'limsup', 'ln', 'log', 'max', 'min', 'Pr', 'projlim', 'sec', 'sin', 'sinh', 'sup', 'tan', 'tanh']))\n",
    "ops = re.compile(r'\\\\operatorname {(%s)}' % operators)\n",
    "temp_file = clean_txt + '.tmp'\n",
    "with open(temp_file, 'w') as fout:\n",
    "    prepre = open(clean_txt, 'r').read().replace('\\r', ' ')  # delete \\r\n",
    "    # replace split, align with aligned\n",
    "    prepre = re.sub(r'\\\\begin{(split|align|alignedat|alignat|eqnarray)\\*?}(.+?)\\\\end{\\1\\*?}', r'\\\\begin{aligned}\\2\\\\end{aligned}', prepre, flags=re.S)\n",
    "    prepre = re.sub(r'\\\\begin{(smallmatrix)\\*?}(.+?)\\\\end{\\1\\*?}', r'\\\\begin{matrix}\\2\\\\end{matrix}', prepre, flags=re.S)\n",
    "    fout.write(prepre)\n",
    "\n",
    "cmd = r\"cat %s | node %s %s > %s \" % (temp_file, os.path.join(os.path.dirname('__file__'), 'preprocess_latex.js'), 'normalize', clean_txt)\n",
    "ret = subprocess.call(cmd, shell=True)\n",
    "os.remove(temp_file)\n",
    "if ret != 0:\n",
    "    print('FAILED: %s' % cmd)\n",
    "temp_file = clean_txt + '.tmp'\n",
    "shutil.move(clean_txt, temp_file)\n",
    "with open(temp_file, 'r') as fin:\n",
    "    with open(clean_txt, 'w') as fout:\n",
    "        count_str = 0\n",
    "        for line in fin:\n",
    "            count_str = count_str + 1\n",
    "            tokens = line.strip().split()\n",
    "            tokens_out = []\n",
    "            for token in tokens:\n",
    "                tokens_out.append(token)\n",
    "            if len(tokens_out) > 5:\n",
    "                post = ' '.join(tokens_out)\n",
    "                # use \\sin instead of \\operatorname{sin}\n",
    "                names = ['\\\\'+x.replace(' ', '') for x in re.findall(ops, post)]\n",
    "                post = re.sub(ops, lambda match: str(names.pop(0)), post).replace(r'\\\\ \\end{array}', r'\\end{array}')\n",
    "                fout.write(post+'\\n')\n",
    "            else:\n",
    "                fout.write('ERROR!\\n')\n",
    "os.remove(temp_file)\n",
    "print('Done!')"
   ]
  },
  {
   "cell_type": "markdown",
   "metadata": {},
   "source": [
    "# Conver TXT to CSV"
   ]
  },
  {
   "cell_type": "code",
   "execution_count": 6,
   "metadata": {},
   "outputs": [],
   "source": [
    "clean_data_file = open(clean_txt,'r')\n",
    "i = 0\n",
    "new_data = data.copy()\n",
    "for x in clean_data_file:\n",
    "    if x != 'ERROR!\\n':\n",
    "        new_data['latex'][i] = x[:-1]\n",
    "    i = i+1\n",
    "        \n",
    "clean_data_file.close()"
   ]
  },
  {
   "cell_type": "markdown",
   "metadata": {},
   "source": [
    "# Save to CSV"
   ]
  },
  {
   "cell_type": "code",
   "execution_count": 7,
   "metadata": {},
   "outputs": [],
   "source": [
    "new_data.to_csv(output_csv, encoding='utf-8', index=False)"
   ]
  }
 ],
 "metadata": {
  "kernelspec": {
   "display_name": "img2latex",
   "language": "python",
   "name": "python3"
  },
  "language_info": {
   "codemirror_mode": {
    "name": "ipython",
    "version": 3
   },
   "file_extension": ".py",
   "mimetype": "text/x-python",
   "name": "python",
   "nbconvert_exporter": "python",
   "pygments_lexer": "ipython3",
   "version": "3.8.18"
  }
 },
 "nbformat": 4,
 "nbformat_minor": 2
}
